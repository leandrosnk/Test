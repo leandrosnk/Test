{
 "cells": [
  {
   "cell_type": "markdown",
   "id": "ac40b0ab-a814-4cc0-bf1b-d140f921465b",
   "metadata": {},
   "source": [
    "# Data Science Tools and Ecosystem"
   ]
  },
  {
   "cell_type": "markdown",
   "id": "67ed5238-a89c-44d0-894d-35430421bd3b",
   "metadata": {},
   "source": [
    "In this notebook, Data Science Tools and Ecosystem are summarized."
   ]
  },
  {
   "cell_type": "markdown",
   "id": "1099516d-215f-4aa0-a82f-7f9950bc2b20",
   "metadata": {},
   "source": [
    "**Objectives:**\n",
    "\n",
    "* List popular languages for Data Science\n",
    "* List libraries used by Data Scientists\n",
    "* List Data Science development tools"
   ]
  },
  {
   "cell_type": "markdown",
   "id": "eb6af9ff-ee2e-4b82-9901-8322fb108367",
   "metadata": {},
   "source": [
    "Some of the popular languages that Data Scientists use are:\n",
    "\n",
    "1. Python\n",
    "2. R\n",
    "3. SQL"
   ]
  },
  {
   "cell_type": "markdown",
   "id": "6d3b462a-0dd0-4006-a6dd-4bcda8835886",
   "metadata": {},
   "source": [
    "Some of the commonly used libraries used by Data Scientists include:\n",
    "1. Pandas\n",
    "2. NumPy\n",
    "3. Matplotlib\n"
   ]
  },
  {
   "cell_type": "markdown",
   "id": "63bc178a-0e6a-4c6a-8943-3ded405edfb2",
   "metadata": {},
   "source": [
    "| Data Science Tools |\n",
    "| ------------------ |\n",
    "| Apache Spark |\n",
    "| Pandas |\n",
    "| GitHub | \n"
   ]
  },
  {
   "cell_type": "markdown",
   "id": "a3d62d13-bb06-4f54-b847-d2d5d9380a6f",
   "metadata": {},
   "source": [
    "### Below are a few examples of evaluating arithmetic expressions in Python"
   ]
  },
  {
   "cell_type": "markdown",
   "id": "df7c5443-4ec6-4812-95af-aa3b5e0bcd3a",
   "metadata": {},
   "source": [
    "This a simple arithmetic expression to mutiply then add integers\n"
   ]
  },
  {
   "cell_type": "code",
   "execution_count": 13,
   "id": "ad86691e-1e70-4c68-9c5e-d8229354522b",
   "metadata": {},
   "outputs": [
    {
     "data": {
      "text/plain": [
       "17"
      ]
     },
     "execution_count": 13,
     "metadata": {},
     "output_type": "execute_result"
    }
   ],
   "source": [
    "(3*4)+5"
   ]
  },
  {
   "cell_type": "markdown",
   "id": "99098f9c-ecd7-4a41-9759-bda3559f1d5a",
   "metadata": {},
   "source": [
    "This will convert 200 minutes to hours by diving by 60."
   ]
  },
  {
   "cell_type": "code",
   "execution_count": 17,
   "id": "67abf7aa-753f-43ce-a605-f0701ad93d15",
   "metadata": {},
   "outputs": [
    {
     "name": "stdout",
     "output_type": "stream",
     "text": [
      "3.3333333333333335\n"
     ]
    }
   ],
   "source": [
    "minutes = 200\n",
    "hours = minutes / 60\n",
    "\n",
    "print(hours)\n"
   ]
  },
  {
   "cell_type": "markdown",
   "id": "bb52ceaa-abd7-4f63-b91d-de3a180bb45d",
   "metadata": {},
   "source": [
    "## Author\n",
    "Leandros Nikolopoulos"
   ]
  }
 ],
 "metadata": {
  "kernelspec": {
   "display_name": "Python 3 (ipykernel)",
   "language": "python",
   "name": "python3"
  },
  "language_info": {
   "codemirror_mode": {
    "name": "ipython",
    "version": 3
   },
   "file_extension": ".py",
   "mimetype": "text/x-python",
   "name": "python",
   "nbconvert_exporter": "python",
   "pygments_lexer": "ipython3",
   "version": "3.12.4"
  }
 },
 "nbformat": 4,
 "nbformat_minor": 5
}
